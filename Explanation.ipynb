{
 "cells": [
  {
   "cell_type": "markdown",
   "metadata": {},
   "source": [
    "# A. Lead Types\n",
    "\n",
    "The following are categories of \"lead\" or potential customers in the context of credit risk, each with specific underwriting rules based on the characteristics or source of the lead.\n",
    "\n",
    "## 1. bvMandatory\n",
    "- **Definition**: These are leads that are purchased from a \"ping tree\" (a system where leads are auctioned off to the highest bidder among lenders). For these leads, bank verification is mandatory before the loan can be approved.\n",
    "- **Example**: Imagine a lead is acquired from a third-party lead marketplace. Before the loan is approved for this lead, the lender must verify the customer's bank account to ensure it is legitimate and has a history of transactions.\n",
    "\n",
    "## 2. lead\n",
    "- **Definition**: Similar to bvMandatory leads, these also come from external sources, but bank verification is optional for loan approval.\n",
    "- **Example**: A lead from an online lead generation site is considered for a loan. The lender may choose to verify the customer's bank account if there are doubts, but it is not a strict requirement for approval.\n",
    "\n",
    "## 3. california\n",
    "- **Definition**: This lead type is similar to the \"lead\" category, but it is specifically optimized to comply with California's lending regulations.\n",
    "- **Example**: A customer from California applies for a loan through a lead generation site. The lender uses underwriting rules that adhere to California's specific lending laws, such as interest rate caps and consumer protection requirements.\n",
    "\n",
    "## 4. organic\n",
    "- **Definition**: These leads are customers who have directly visited and applied through the MoneyLion website.\n",
    "- **Example**: A customer finds the MoneyLion website through a Google search, signs up, and applies for a loan directly on the site. This lead is considered organic because it came through the lender’s own marketing efforts.\n",
    "\n",
    "## 5. rc_returning\n",
    "- **Definition**: These are customers who have already taken out and fully paid off at least one loan in another loan portfolio managed by the lender.\n",
    "- **Example**: A customer who took out a personal loan a year ago and paid it off on time is now applying for another loan. Since they have a positive history with the lender, they are categorized as rc_returning.\n",
    "\n",
    "## 6. prescreen\n",
    "- **Definition**: These are customers who have been preselected and offered a loan through direct mail campaigns. These leads are pre-approved based on certain criteria.\n",
    "- **Example**: A customer receives a letter in the mail stating they are pre-approved for a loan based on their credit profile. They respond to the offer and apply for the loan, falling into the prescreen category.\n",
    "\n",
    "## 7. express\n",
    "- **Definition**: These leads are part of a promotional campaign for \"express\" loans, which may offer quicker processing or approval.\n",
    "- **Example**: A lender runs a promotion for fast-track loans where customers can get approved and funded within a day. A customer who applies for this promotion is categorized under express.\n",
    "\n",
    "## 8. repeat\n",
    "- **Definition**: These are promotional loans offered through SMS campaigns to existing customers or leads.\n",
    "- **Example**: An existing customer receives an SMS from the lender offering a special loan promotion. They click the link in the message and apply for the loan, making them a repeat lead.\n",
    "\n",
    "## 9. instant-offer\n",
    "- **Definition**: These leads are part of a promotional campaign offering \"instant\" loan approvals.\n",
    "- **Example**: A customer visits the lender's website and sees an offer for an \"instant\" loan approval if they meet certain criteria. They apply and receive an immediate decision, falling under the instant-offer category.\n",
    "\n"
   ]
  },
  {
   "cell_type": "markdown",
   "metadata": {},
   "source": [
    "# B. Lead Cost\n",
    "\n",
    "**Lead Cost** refers to the amount of money a company spends to acquire a potential customer or borrower, known as a lead. This cost can include expenses related to paid advertising, purchased leads, internal marketing efforts, sales team activities, and the use of lead generation tools. Understanding lead cost is crucial for businesses to evaluate the cost-effectiveness of their marketing and sales strategies, allocate budgets efficiently, and ensure that the cost of acquiring leads aligns with the overall profitability of their products or services.\n"
   ]
  },
  {
   "cell_type": "markdown",
   "metadata": {},
   "source": [
    "# C. State\n",
    "\n",
    "Client’s state"
   ]
  },
  {
   "cell_type": "markdown",
   "metadata": {},
   "source": [
    "## D. Loan Amount\n",
    "\n",
    "**loan Amount** refers to the principal amount of the loan, which is the initial sum of money that a borrower applies for or receives. In the context of funded loans, this represents the actual amount of money that has been disbursed to the borrower. For non-funded loans, **loan Amount** indicates the principal amount stated in the loan application, which is the amount the borrower has requested, but which has not yet been disbursed.\n"
   ]
  },
  {
   "cell_type": "markdown",
   "metadata": {},
   "source": [
    "# Excluded Feature\n",
    "\n",
    "## 1. payFrequency\n",
    "\n",
    "**payFrequency** refers to the repayment schedule or frequency with which a borrower is required to make payments on a loan. The repayment frequency determines how often the borrower will need to make payments towards the loan, and it can vary based on the loan agreement. The different codes used in this context represent various payment schedules:\n",
    "\n",
    "- **B (Biweekly)**: Payments are made every two weeks.\n",
    "- **I (Irregular)**: Payments do not follow a regular schedule and may vary in timing.\n",
    "- **M (Monthly)**: Payments are made once a month.\n",
    "- **S (Semi-monthly)**: Payments are made twice a month, typically on specific dates (e.g., the 1st and 15th of the month).\n",
    "- **W (Weekly)**: Payments are made every week.\n"
   ]
  },
  {
   "cell_type": "markdown",
   "metadata": {},
   "source": [
    "## 2. APR (Annual Percentage Rate)\n",
    "\n",
    "**APR** stands for **Annual Percentage Rate** and represents the annual cost of a loan expressed as a percentage of the loan amount. The APR includes not only the interest rate but also any additional fees or costs associated with the loan, providing a more comprehensive view of the cost of borrowing. It allows borrowers to compare the true cost of different loan offers. The APR is typically used to help borrowers understand how much they will pay over the course of a year for a loan.\n"
   ]
  },
  {
   "cell_type": "markdown",
   "metadata": {},
   "source": [
    "## 3. nPaidOff\n",
    "\n",
    "**nPaidOff** refers to the number of loans that a client has fully paid off in the past with MoneyLion. This metric indicates the client's history of successfully repaying loans and can be used to assess their reliability and creditworthiness. A higher **nPaidOff** value typically suggests a positive repayment history, which may influence future loan approvals or terms offered to the client.\n"
   ]
  }
 ],
 "metadata": {
  "language_info": {
   "name": "python"
  }
 },
 "nbformat": 4,
 "nbformat_minor": 2
}
